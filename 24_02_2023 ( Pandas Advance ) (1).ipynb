{
 "cells": [
  {
   "cell_type": "markdown",
   "id": "b648cf47",
   "metadata": {},
   "source": [
    "# PW SKILLS"
   ]
  },
  {
   "cell_type": "markdown",
   "id": "2de4ca99",
   "metadata": {},
   "source": [
    "##  Assignment Questions :"
   ]
  },
  {
   "cell_type": "markdown",
   "id": "839a5c21",
   "metadata": {},
   "source": [
    "### Q1. List any five functions of the pandas library with execution.\n",
    "### Answer :"
   ]
  },
  {
   "cell_type": "markdown",
   "id": "3f0ce5f1",
   "metadata": {},
   "source": [
    "### Certainly! The pandas library is a powerful data manipulation and analysis library for Python. Here are five common functions along with their execution:\n",
    "\n",
    "### 1. read_csv: This function is used to read data from a CSV file into a DataFrame."
   ]
  },
  {
   "cell_type": "code",
   "execution_count": null,
   "id": "521d1a9c",
   "metadata": {},
   "outputs": [],
   "source": [
    "import pandas as pd\n",
    "\n",
    "# Example CSV file: \"example.csv\"\n",
    "# Name,Age,Location\n",
    "# John,25,New York\n",
    "# Alice,30,San Francisco\n",
    "\n",
    "# Reading CSV into a DataFrame\n",
    "df = pd.read_csv(\"example.csv\")\n",
    "print(df)\n"
   ]
  },
  {
   "cell_type": "markdown",
   "id": "ad023d16",
   "metadata": {},
   "source": [
    "### 2. head: This function is used to display the first few rows of a DataFrame."
   ]
  },
  {
   "cell_type": "code",
   "execution_count": null,
   "id": "4047ed89",
   "metadata": {},
   "outputs": [],
   "source": [
    "# Displaying the first 5 rows of the DataFrame\n",
    "print(df.head())\n"
   ]
  },
  {
   "cell_type": "markdown",
   "id": "39defee1",
   "metadata": {},
   "source": [
    "### 3. describe: This function provides descriptive statistics of the numerical columns in a DataFrame."
   ]
  },
  {
   "cell_type": "code",
   "execution_count": null,
   "id": "4de70ebe",
   "metadata": {},
   "outputs": [],
   "source": [
    "# Displaying summary statistics of numerical columns\n",
    "print(df.describe())\n"
   ]
  },
  {
   "cell_type": "markdown",
   "id": "490f7525",
   "metadata": {},
   "source": [
    "### 4. shape: This function returns the number of rows and columns in the DataFrame."
   ]
  },
  {
   "cell_type": "code",
   "execution_count": null,
   "id": "a88acd75",
   "metadata": {},
   "outputs": [],
   "source": [
    "# Displaying the shape of the DataFrame\n",
    "print(df.shape)\n"
   ]
  },
  {
   "cell_type": "markdown",
   "id": "6f393548",
   "metadata": {},
   "source": [
    "### 5. groupby: This function is used for grouping data based on some criteria and then applying a function to each group."
   ]
  },
  {
   "cell_type": "code",
   "execution_count": null,
   "id": "a3800fe5",
   "metadata": {},
   "outputs": [],
   "source": [
    "# Grouping data by the 'Location' column and calculating the average age for each location\n",
    "grouped_df = df.groupby('Location')['Age'].mean()\n",
    "print(grouped_df)\n"
   ]
  },
  {
   "cell_type": "markdown",
   "id": "918e4805",
   "metadata": {},
   "source": [
    "### These examples assume you have pandas installed in your Python environment. If you don't have it installed, you can install it using:"
   ]
  },
  {
   "cell_type": "code",
   "execution_count": null,
   "id": "0bc25c0b",
   "metadata": {},
   "outputs": [],
   "source": [
    "pip install pandas\n"
   ]
  },
  {
   "cell_type": "markdown",
   "id": "24858981",
   "metadata": {},
   "source": [
    "### Q2. Given a Pandas DataFrame df with columns 'A', 'B', and 'C', write a Python function to re-index the DataFrame with a new index that starts from 1 and increments by 2 for each row.\n",
    "### Answer : Certainly! We can use the reset_index method to achieve this. Here's a Python function that re-indexes the DataFrame with a new index starting from 1 and incrementing by 2 for each row:"
   ]
  },
  {
   "cell_type": "code",
   "execution_count": 1,
   "id": "a2c6d5f8",
   "metadata": {},
   "outputs": [
    {
     "name": "stdout",
     "output_type": "stream",
     "text": [
      "Original DataFrame:\n",
      "    A   B   C\n",
      "0  10  40  70\n",
      "1  20  50  80\n",
      "2  30  60  90\n",
      "\n",
      "DataFrame after re-indexing:\n",
      "    A   B   C\n",
      "1  10  40  70\n",
      "3  20  50  80\n",
      "5  30  60  90\n"
     ]
    }
   ],
   "source": [
    "import pandas as pd\n",
    "\n",
    "def reindex_dataframe(df):\n",
    "    # Resetting the index and creating a new index starting from 1 and incrementing by 2\n",
    "    df_reindexed = df.reset_index(drop=True)\n",
    "    df_reindexed.index = df_reindexed.index * 2 + 1\n",
    "    \n",
    "    return df_reindexed\n",
    "\n",
    "# Example DataFrame df with columns 'A', 'B', and 'C'\n",
    "data = {'A': [10, 20, 30], 'B': [40, 50, 60], 'C': [70, 80, 90]}\n",
    "df = pd.DataFrame(data)\n",
    "\n",
    "# Re-indexing the DataFrame\n",
    "df_reindexed = reindex_dataframe(df)\n",
    "\n",
    "# Displaying the original and re-indexed DataFrames\n",
    "print(\"Original DataFrame:\")\n",
    "print(df)\n",
    "\n",
    "print(\"\\nDataFrame after re-indexing:\")\n",
    "print(df_reindexed)\n"
   ]
  },
  {
   "cell_type": "markdown",
   "id": "cf1f2c5c",
   "metadata": {},
   "source": [
    "### Q3. You have a Pandas DataFrame df with a column named 'Values'. Write a Python function that iterates over the DataFrame and calculates the sum of the first three values in the 'Values' column. The function should print the sum to the console.\n",
    "\n",
    "### For example, if the 'Values' column of df contains the values [10, 20, 30, 40, 50], your function should calculate and print the sum of the first three values, which is 60.\n",
    "### Answer : Certainly! We can create a Python function that iterates over the first three values in the 'Values' column of the DataFrame and calculates their sum. Here's an example:"
   ]
  },
  {
   "cell_type": "code",
   "execution_count": 2,
   "id": "e6140a50",
   "metadata": {},
   "outputs": [
    {
     "name": "stdout",
     "output_type": "stream",
     "text": [
      "Sum of the first three values: 60\n"
     ]
    }
   ],
   "source": [
    "import pandas as pd\n",
    "\n",
    "def calculate_sum_of_first_three(df):\n",
    "    # Extracting the 'Values' column from the DataFrame\n",
    "    values_column = df['Values']\n",
    "\n",
    "    # Calculating the sum of the first three values\n",
    "    sum_of_first_three = sum(values_column.head(3))\n",
    "\n",
    "    # Printing the sum to the console\n",
    "    print(\"Sum of the first three values:\", sum_of_first_three)\n",
    "\n",
    "# Example DataFrame df with a 'Values' column\n",
    "data = {'Values': [10, 20, 30, 40, 50]}\n",
    "df = pd.DataFrame(data)\n",
    "\n",
    "# Calling the function to calculate and print the sum of the first three values\n",
    "calculate_sum_of_first_three(df)\n"
   ]
  },
  {
   "cell_type": "markdown",
   "id": "40e58c5b",
   "metadata": {},
   "source": [
    "### In this example, the function calculate_sum_of_first_three extracts the 'Values' column from the DataFrame using df['Values'], then uses the head(3) method to select the first three values, and finally calculates their sum using the sum function. The result is then printed to the console."
   ]
  },
  {
   "cell_type": "markdown",
   "id": "e537fd97",
   "metadata": {},
   "source": [
    "### Q4. Given a Pandas DataFrame df with a column 'Text', write a Python function to create a new column 'Word_Count' that contains the number of words in each row of the 'Text' column.\n",
    "### Answer :Certainly! We can use the apply function along with a lambda function to count the number of words in each row of the 'Text' column and create a new column 'Word_Count'. Here's an example:"
   ]
  },
  {
   "cell_type": "code",
   "execution_count": 3,
   "id": "826af881",
   "metadata": {},
   "outputs": [
    {
     "name": "stdout",
     "output_type": "stream",
     "text": [
      "                         Text  Word_Count\n",
      "0         Hello, how are you?           4\n",
      "1  This is a sample sentence.           5\n",
      "2  Python programming is fun!           4\n"
     ]
    }
   ],
   "source": [
    "import pandas as pd\n",
    "\n",
    "def add_word_count_column(df):\n",
    "    # Function to count words in a text\n",
    "    count_words = lambda text: len(str(text).split())\n",
    "\n",
    "    # Applying the function to the 'Text' column and creating a new 'Word_Count' column\n",
    "    df['Word_Count'] = df['Text'].apply(count_words)\n",
    "\n",
    "# Example DataFrame df with a 'Text' column\n",
    "data = {'Text': [\"Hello, how are you?\", \"This is a sample sentence.\", \"Python programming is fun!\"]}\n",
    "df = pd.DataFrame(data)\n",
    "\n",
    "# Calling the function to add the 'Word_Count' column\n",
    "add_word_count_column(df)\n",
    "\n",
    "# Displaying the DataFrame with the new 'Word_Count' column\n",
    "print(df)\n"
   ]
  },
  {
   "cell_type": "markdown",
   "id": "9449f3dc",
   "metadata": {},
   "source": [
    "### In this example, the add_word_count_column function defines a lambda function count_words to count the number of words in a given text. The apply function is then used to apply this lambda function to each row of the 'Text' column, and a new 'Word_Count' column is created in the DataFrame. The result is a DataFrame with the original 'Text' column and a new 'Word_Count' column containing the word count for each row."
   ]
  },
  {
   "cell_type": "markdown",
   "id": "e4218b6d",
   "metadata": {},
   "source": [
    "### Q5. How are DataFrame.size() and DataFrame.shape() different?\n",
    "### Answer : In the context of pandas, a popular data manipulation library in Python, DataFrame.size and DataFrame.shape are two different attributes that provide information about the structure of a DataFrame.\n",
    "\n",
    "### 1. DataFrame.size:\n",
    "\n",
    "### DataFrame.size returns the total number of elements in the DataFrame.\n",
    "### It calculates the size by multiplying the number of rows by the number of columns.\n",
    "### The result is a single integer value representing the total number of elements in the DataFrame."
   ]
  },
  {
   "cell_type": "code",
   "execution_count": 1,
   "id": "5c4a51fc",
   "metadata": {},
   "outputs": [
    {
     "name": "stdout",
     "output_type": "stream",
     "text": [
      "6\n"
     ]
    }
   ],
   "source": [
    "import pandas as pd\n",
    "\n",
    "# Creating a DataFrame\n",
    "data = {'A': [1, 2, 3], 'B': [4, 5, 6]}\n",
    "df = pd.DataFrame(data)\n",
    "\n",
    "# Using DataFrame.size\n",
    "size_result = df.size\n",
    "print(size_result)\n"
   ]
  },
  {
   "cell_type": "markdown",
   "id": "00911126",
   "metadata": {},
   "source": [
    "### 2. DataFrame.shape:\n",
    "\n",
    "### DataFrame.shape returns a tuple representing the dimensions of the DataFrame.\n",
    "### The tuple contains two elements: the number of rows and the number of columns.\n",
    "### It is useful for quickly checking the shape of the DataFrame without having to calculate the total number of elements."
   ]
  },
  {
   "cell_type": "code",
   "execution_count": 2,
   "id": "513994c5",
   "metadata": {},
   "outputs": [
    {
     "name": "stdout",
     "output_type": "stream",
     "text": [
      "(3, 2)\n"
     ]
    }
   ],
   "source": [
    "import pandas as pd\n",
    "\n",
    "# Creating a DataFrame\n",
    "data = {'A': [1, 2, 3], 'B': [4, 5, 6]}\n",
    "df = pd.DataFrame(data)\n",
    "\n",
    "# Using DataFrame.shape\n",
    "shape_result = df.shape\n",
    "print(shape_result)\n"
   ]
  },
  {
   "cell_type": "markdown",
   "id": "93c6978c",
   "metadata": {},
   "source": [
    "### In summary, while DataFrame.size gives you the total number of elements in the DataFrame, DataFrame.shape provides a tuple representing the number of rows and columns."
   ]
  },
  {
   "cell_type": "markdown",
   "id": "d5ee3552",
   "metadata": {},
   "source": [
    "### Q6. Which function of pandas do we use to read an excel file.\n",
    "### Answer : In pandas, you can use the read_excel function to read data from an Excel file. This function is part of the pandas library and allows you to read the contents of an Excel file into a DataFrame.\n",
    "\n",
    "### Here is an example of how to use the read_excel function:"
   ]
  },
  {
   "cell_type": "code",
   "execution_count": null,
   "id": "2066367c",
   "metadata": {},
   "outputs": [],
   "source": [
    "import pandas as pd\n",
    "\n",
    "# Specify the Excel file path\n",
    "excel_file_path = 'your_excel_file.xlsx'\n",
    "\n",
    "# Use read_excel to read the Excel file into a DataFrame\n",
    "df = pd.read_excel(excel_file_path)\n",
    "\n",
    "# Now, 'df' contains the data from the Excel file\n"
   ]
  },
  {
   "cell_type": "markdown",
   "id": "c0e757e9",
   "metadata": {},
   "source": [
    "### In the example above, replace 'your_excel_file.xlsx' with the actual path or URL of your Excel file. The read_excel function can also take additional parameters to customize the import process, such as specifying sheet names, skipping rows, and more. Refer to the pandas documentation for more details on the available options: pandas.read_excel documentation."
   ]
  },
  {
   "cell_type": "markdown",
   "id": "c183dcfa",
   "metadata": {},
   "source": [
    "### Q7. You have a Pandas DataFrame df that contains a column named 'Email' that contains email addresses in the format 'username@domain.com'. Write a Python function that creates a new column 'Username' in df that contains only the username part of each email address.\n",
    "\n",
    "### The username is the part of the email address that appears before the '@' symbol. For example, if the email address is 'john.doe@example.com', the 'Username' column should contain 'john.doe'. Your function should extract the username from each email address and store it in the new 'Username' column.\n",
    "### Answer : Certainly! We can achieve this by using the apply function along with a custom function to extract the username from each email address. Here's an example:"
   ]
  },
  {
   "cell_type": "code",
   "execution_count": 3,
   "id": "72c94bd4",
   "metadata": {},
   "outputs": [
    {
     "name": "stdout",
     "output_type": "stream",
     "text": [
      "                     Email     Username\n",
      "0     john.doe@example.com     john.doe\n",
      "1  alice.smith@example.com  alice.smith\n",
      "2    bob.jones@example.com    bob.jones\n"
     ]
    }
   ],
   "source": [
    "import pandas as pd\n",
    "\n",
    "# Sample DataFrame with 'Email' column\n",
    "data = {'Email': ['john.doe@example.com', 'alice.smith@example.com', 'bob.jones@example.com']}\n",
    "df = pd.DataFrame(data)\n",
    "\n",
    "# Function to extract username from email address\n",
    "def extract_username(email):\n",
    "    return email.split('@')[0]\n",
    "\n",
    "# Create a new 'Username' column using the apply function\n",
    "df['Username'] = df['Email'].apply(extract_username)\n",
    "\n",
    "# Display the updated DataFrame\n",
    "print(df)\n"
   ]
  },
  {
   "cell_type": "markdown",
   "id": "3b773186",
   "metadata": {},
   "source": [
    "### In this example, the extract_username function takes an email address as input, splits it at the '@' symbol, and returns the first part (username). The apply function is then used to apply this function to each element in the 'Email' column, creating a new 'Username' column in the DataFrame with the extracted usernames."
   ]
  },
  {
   "cell_type": "markdown",
   "id": "ff20b97d",
   "metadata": {},
   "source": [
    "### Q8. You have a Pandas DataFrame df with columns 'A', 'B', and 'C'. Write a Python function that selects all rows where the value in column 'A' is greater than 5 and the value in column 'B' is less than 10. The function should return a new DataFrame that contains only the selected rows.\n",
    "\n",
    "For example, if df contains the following values:\n",
    "\n",
    "   A   B   C\n",
    "\n",
    "0  3   5   1\n",
    "\n",
    "1  8   2   7\n",
    "\n",
    "2  6   9   4\n",
    "\n",
    "3  2   3   5\n",
    "\n",
    "4  9   1   2\n",
    "\n",
    "### Your function should select the following rows:   A   B   C\n",
    "\n",
    "1  8   2   7\n",
    "\n",
    "4  9   1   2\n",
    "\n",
    "### The function should return a new DataFrame that contains only the selected rows.\n",
    "### Answer : Certainly! Here's a Python function that selects rows from the DataFrame where the value in column 'A' is greater than 5 and the value in column 'B' is less than 10:\n",
    "\n"
   ]
  },
  {
   "cell_type": "code",
   "execution_count": 4,
   "id": "e869597e",
   "metadata": {},
   "outputs": [
    {
     "name": "stdout",
     "output_type": "stream",
     "text": [
      "   A  B  C\n",
      "1  8  2  7\n",
      "2  6  9  4\n",
      "4  9  1  2\n"
     ]
    }
   ],
   "source": [
    "import pandas as pd\n",
    "\n",
    "# Sample DataFrame\n",
    "data = {'A': [3, 8, 6, 2, 9],\n",
    "        'B': [5, 2, 9, 3, 1],\n",
    "        'C': [1, 7, 4, 5, 2]}\n",
    "\n",
    "df = pd.DataFrame(data)\n",
    "\n",
    "# Function to select rows based on conditions\n",
    "def select_rows(df):\n",
    "    selected_rows = df[(df['A'] > 5) & (df['B'] < 10)]\n",
    "    return selected_rows\n",
    "\n",
    "# Call the function\n",
    "selected_df = select_rows(df)\n",
    "\n",
    "# Display the selected DataFrame\n",
    "print(selected_df)\n"
   ]
  },
  {
   "cell_type": "markdown",
   "id": "40636605",
   "metadata": {},
   "source": [
    "### This function uses boolean indexing to filter rows where the value in column 'A' is greater than 5 and the value in column 'B' is less than 10. The resulting DataFrame (selected_df) contains only the rows that satisfy these conditions."
   ]
  },
  {
   "cell_type": "markdown",
   "id": "82d67a3a",
   "metadata": {},
   "source": [
    "### Q9. Given a Pandas DataFrame df with a column 'Values', write a Python function to calculate the mean, median, and standard deviation of the values in the 'Values' column.\n",
    "### Answer : Certainly! We can use the mean(), median(), and std() functions provided by pandas to calculate the mean, median, and standard deviation of a specific column. Here's a Python function that does this for the 'Values' column in a given DataFrame:"
   ]
  },
  {
   "cell_type": "code",
   "execution_count": 5,
   "id": "cfdf62d6",
   "metadata": {},
   "outputs": [
    {
     "name": "stdout",
     "output_type": "stream",
     "text": [
      "Mean: 6.5\n",
      "Median: 6.5\n",
      "Standard Deviation: 3.251373336211726\n"
     ]
    }
   ],
   "source": [
    "import pandas as pd\n",
    "\n",
    "# Sample DataFrame\n",
    "data = {'Values': [3, 8, 6, 2, 9, 5, 12, 7]}\n",
    "df = pd.DataFrame(data)\n",
    "\n",
    "# Function to calculate mean, median, and standard deviation\n",
    "def calculate_stats(df):\n",
    "    mean_value = df['Values'].mean()\n",
    "    median_value = df['Values'].median()\n",
    "    std_dev_value = df['Values'].std()\n",
    "    \n",
    "    return mean_value, median_value, std_dev_value\n",
    "\n",
    "# Call the function\n",
    "mean_val, median_val, std_dev_val = calculate_stats(df)\n",
    "\n",
    "# Display the calculated statistics\n",
    "print(f'Mean: {mean_val}')\n",
    "print(f'Median: {median_val}')\n",
    "print(f'Standard Deviation: {std_dev_val}')\n"
   ]
  },
  {
   "cell_type": "markdown",
   "id": "78d5ea9b",
   "metadata": {},
   "source": [
    "### In this example, the calculate_stats function takes a DataFrame as input, extracts the 'Values' column, and then uses the mean(), median(), and std() functions to calculate the mean, median, and standard deviation, respectively. The calculated values are then returned by the function."
   ]
  },
  {
   "cell_type": "markdown",
   "id": "5ed6599f",
   "metadata": {},
   "source": [
    "### Q10. Given a Pandas DataFrame df with a column 'Sales' and a column 'Date', write a Python function to create a new column 'MovingAverage' that contains the moving average of the sales for the past 7 days for each row in the DataFrame. The moving average should be calculated using a window of size 7 and should include the current day.\n",
    "### Answer :Certainly! We can use the rolling method in pandas to calculate the moving average for a specified window size. Here's a Python function that creates a new column 'MovingAverage' in the DataFrame, containing the moving average of the 'Sales' column for the past 7 days:"
   ]
  },
  {
   "cell_type": "code",
   "execution_count": 6,
   "id": "8dd292d6",
   "metadata": {},
   "outputs": [
    {
     "name": "stdout",
     "output_type": "stream",
     "text": [
      "         Date  Sales  MovingAverage\n",
      "0  2022-01-01     10           10.0\n",
      "1  2022-01-02     15           12.5\n",
      "2  2022-01-03     20           15.0\n",
      "3  2022-01-04     25           17.5\n",
      "4  2022-01-05     30           20.0\n",
      "5  2022-01-06     35           22.5\n",
      "6  2022-01-07     40           25.0\n",
      "7  2022-01-08     45           30.0\n",
      "8  2022-01-09     50           35.0\n",
      "9  2022-01-10     55           40.0\n",
      "10 2022-01-11     60           45.0\n",
      "11 2022-01-12     65           50.0\n",
      "12 2022-01-13     70           55.0\n",
      "13 2022-01-14     75           60.0\n",
      "14 2022-01-15     80           65.0\n"
     ]
    }
   ],
   "source": [
    "import pandas as pd\n",
    "\n",
    "# Sample DataFrame\n",
    "data = {'Date': pd.date_range('2022-01-01', '2022-01-15'),\n",
    "        'Sales': [10, 15, 20, 25, 30, 35, 40, 45, 50, 55, 60, 65, 70, 75, 80]}\n",
    "\n",
    "df = pd.DataFrame(data)\n",
    "\n",
    "# Function to calculate moving average\n",
    "def calculate_moving_average(df, window_size=7):\n",
    "    # Sort DataFrame by date (if not already sorted)\n",
    "    df = df.sort_values(by='Date')\n",
    "\n",
    "    # Calculate the moving average and create a new column 'MovingAverage'\n",
    "    df['MovingAverage'] = df['Sales'].rolling(window=window_size, min_periods=1).mean()\n",
    "\n",
    "    return df\n",
    "\n",
    "# Call the function\n",
    "df_with_moving_average = calculate_moving_average(df)\n",
    "\n",
    "# Display the DataFrame with the new 'MovingAverage' column\n",
    "print(df_with_moving_average)\n"
   ]
  },
  {
   "cell_type": "markdown",
   "id": "e1f35fe0",
   "metadata": {},
   "source": [
    "### In this example, the calculate_moving_average function takes a DataFrame as input, sorts it by the 'Date' column, and then uses the rolling method to calculate the moving average for the 'Sales' column with a window size of 7. The min_periods=1 argument ensures that the moving average is calculated even if there are fewer than 7 days of data.\n",
    "\n",
    "### The resulting DataFrame (df_with_moving_average) contains the original 'Sales' column and a new 'MovingAverage' column."
   ]
  },
  {
   "cell_type": "markdown",
   "id": "6bad68c2",
   "metadata": {},
   "source": [
    "### Q11. You have a Pandas DataFrame df with a column 'Date'. Write a Python function that creates a new column 'Weekday' in the DataFrame. The 'Weekday' column should contain the weekday name (e.g. Monday, Tuesday) corresponding to each date in the 'Date' column.\n",
    "\n",
    "For example, if df contains the following values:\n",
    "\n",
    "         Date\n",
    "\n",
    "0  2023-01-01\n",
    "\n",
    "1  2023-01-02\n",
    "\n",
    "2  2023-01-03\n",
    "\n",
    "3  2023-01-04\n",
    "\n",
    "4  2023-01-05\n",
    "\n",
    "Your function should create the following DataFrame:\n",
    "\n",
    "\n",
    "         Date    Weekday\n",
    "\n",
    "0  2023-01-01    Sunday\n",
    "\n",
    "1  2023-01-02     Monday\n",
    "\n",
    "2  2023-01-03    Tuesday\n",
    "\n",
    "3  2023-01-04    Wednesday\n",
    "\n",
    "4  2023-01-05    Thursday\n",
    "\n",
    "The function should return the modified DataFrame.\n",
    "\n",
    "### Answer :We can achieve this by using the dt accessor in pandas to extract the weekday name from the 'Date' column. Here's a Python function that creates a new column 'Weekday' in the DataFrame:\n"
   ]
  },
  {
   "cell_type": "code",
   "execution_count": 7,
   "id": "3ddb32ea",
   "metadata": {},
   "outputs": [
    {
     "name": "stdout",
     "output_type": "stream",
     "text": [
      "        Date    Weekday\n",
      "0 2023-01-01     Sunday\n",
      "1 2023-01-02     Monday\n",
      "2 2023-01-03    Tuesday\n",
      "3 2023-01-04  Wednesday\n",
      "4 2023-01-05   Thursday\n"
     ]
    }
   ],
   "source": [
    "import pandas as pd\n",
    "\n",
    "# Sample DataFrame\n",
    "data = {'Date': pd.to_datetime(['2023-01-01', '2023-01-02', '2023-01-03', '2023-01-04', '2023-01-05'])}\n",
    "df = pd.DataFrame(data)\n",
    "\n",
    "# Function to create 'Weekday' column\n",
    "def add_weekday_column(df):\n",
    "    # Convert 'Date' column to datetime if not already\n",
    "    df['Date'] = pd.to_datetime(df['Date'])\n",
    "    \n",
    "    # Create 'Weekday' column using the dt accessor\n",
    "    df['Weekday'] = df['Date'].dt.day_name()\n",
    "\n",
    "    return df\n",
    "\n",
    "# Call the function\n",
    "df_with_weekday = add_weekday_column(df)\n",
    "\n",
    "# Display the modified DataFrame\n",
    "print(df_with_weekday)\n"
   ]
  },
  {
   "cell_type": "markdown",
   "id": "7ece19e5",
   "metadata": {},
   "source": [
    "### In this example, the add_weekday_column function converts the 'Date' column to datetime format (in case it's not already) and then uses the dt.day_name() accessor to extract the weekday names. The resulting DataFrame (df_with_weekday) contains the original 'Date' column and a new 'Weekday' column."
   ]
  },
  {
   "cell_type": "markdown",
   "id": "fa36e1f9",
   "metadata": {},
   "source": [
    "### Q12. Given a Pandas DataFrame df with a column 'Date' that contains timestamps, write a Python function to select all rows where the date is between '2023-01-01' and '2023-01-31'.\n",
    "### Answer : Certainly! We can use boolean indexing to select rows within a specific date range in pandas. Here's a Python function that selects all rows where the date is between '2023-01-01' and '2023-01-31':"
   ]
  },
  {
   "cell_type": "code",
   "execution_count": 8,
   "id": "61c111b2",
   "metadata": {},
   "outputs": [
    {
     "name": "stdout",
     "output_type": "stream",
     "text": [
      "        Date\n",
      "0 2023-01-01\n",
      "1 2023-01-15\n",
      "2 2023-01-25\n"
     ]
    }
   ],
   "source": [
    "import pandas as pd\n",
    "\n",
    "# Sample DataFrame\n",
    "data = {'Date': pd.to_datetime(['2023-01-01', '2023-01-15', '2023-01-25', '2023-02-05'])}\n",
    "df = pd.DataFrame(data)\n",
    "\n",
    "# Function to select rows within a date range\n",
    "def select_rows_by_date(df, start_date, end_date):\n",
    "    # Convert 'Date' column to datetime if not already\n",
    "    df['Date'] = pd.to_datetime(df['Date'])\n",
    "    \n",
    "    # Use boolean indexing to select rows within the date range\n",
    "    selected_rows = df[(df['Date'] >= start_date) & (df['Date'] <= end_date)]\n",
    "\n",
    "    return selected_rows\n",
    "\n",
    "# Call the function with the specified date range\n",
    "start_date = '2023-01-01'\n",
    "end_date = '2023-01-31'\n",
    "selected_df = select_rows_by_date(df, start_date, end_date)\n",
    "\n",
    "# Display the selected DataFrame\n",
    "print(selected_df)\n"
   ]
  },
  {
   "cell_type": "markdown",
   "id": "661d6801",
   "metadata": {},
   "source": [
    "### In this example, the select_rows_by_date function takes a DataFrame, converts the 'Date' column to datetime format (if not already), and then uses boolean indexing to select rows within the specified date range (start_date to end_date). The resulting DataFrame (selected_df) contains only the rows that satisfy these conditions."
   ]
  },
  {
   "cell_type": "markdown",
   "id": "c5f6bc23",
   "metadata": {},
   "source": [
    "### Q13. To use the basic functions of pandas, what is the first and foremost necessary library that needs to be imported ?\n",
    "### Answer : To use the basic functions of pandas in Python, you need to import the pandas library. It is the primary library for data manipulation and analysis in Python. You typically import it using the following convention:"
   ]
  },
  {
   "cell_type": "code",
   "execution_count": null,
   "id": "2202bff6",
   "metadata": {},
   "outputs": [],
   "source": [
    "import pandas as pd\n"
   ]
  },
  {
   "cell_type": "markdown",
   "id": "48b3dfe8",
   "metadata": {},
   "source": [
    "### This allows you to use the functionalities provided by pandas using the pd alias. For example, you can create a DataFrame, manipulate data, and perform various operations using the pandas functions after importing the library."
   ]
  },
  {
   "cell_type": "code",
   "execution_count": null,
   "id": "084b0bbf",
   "metadata": {},
   "outputs": [],
   "source": []
  }
 ],
 "metadata": {
  "kernelspec": {
   "display_name": "Python 3 (ipykernel)",
   "language": "python",
   "name": "python3"
  },
  "language_info": {
   "codemirror_mode": {
    "name": "ipython",
    "version": 3
   },
   "file_extension": ".py",
   "mimetype": "text/x-python",
   "name": "python",
   "nbconvert_exporter": "python",
   "pygments_lexer": "ipython3",
   "version": "3.9.13"
  }
 },
 "nbformat": 4,
 "nbformat_minor": 5
}
